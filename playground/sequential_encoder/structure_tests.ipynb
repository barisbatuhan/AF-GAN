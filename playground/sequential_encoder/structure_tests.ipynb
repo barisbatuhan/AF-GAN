{
 "cells": [
  {
   "cell_type": "code",
   "execution_count": 2,
   "metadata": {},
   "outputs": [],
   "source": [
    "%load_ext autoreload\n",
    "%autoreload 2"
   ]
  },
  {
   "cell_type": "code",
   "execution_count": 24,
   "metadata": {},
   "outputs": [],
   "source": [
    "import torch\n",
    "import torch.nn as nn\n",
    "import torchvision\n",
    "import torchvision.models as models\n",
    "import numpy as np\n",
    "\n",
    "import os\n",
    "import sys\n",
    "os.path.dirname(sys.executable)\n",
    "sys.path.append('~/SSuperGAN/')"
   ]
  },
  {
   "cell_type": "code",
   "execution_count": 26,
   "metadata": {},
   "outputs": [],
   "source": [
    "# from networks.sequential_encoder import SequentialEncoder"
   ]
  },
  {
   "cell_type": "code",
   "execution_count": 18,
   "metadata": {},
   "outputs": [],
   "source": [
    "class SequentialEncoder(nn.Module):\n",
    "\n",
    "    def __init__(self, args=None, pretrained_cnn=None):\n",
    "        super(SequentialEncoder, self).__init__()\n",
    "\n",
    "        defaults = {\n",
    "            \"lstm_hidden\": 256, # hidden size of LSTM module\n",
    "            \"embed\": 256, # last size for mean and std outputs\n",
    "            \"cnn_embed\": 2048, # the output dim retrieved from CNN embedding module\n",
    "            \"fc_hiddens\": [], # sizes of FC layers after LSTM output, if there are any\n",
    "            \"lstm_dropout\": 0, # set to 0 if num_lstm_layers is 1, otherwise set to [0, 0.5]\n",
    "            \"fc_dropout\": 0.2, # dropout ratio of FC layers if there are any\n",
    "            \"num_lstm_layers\": 1 # number of stacked LSTM layers\n",
    "        }\n",
    "\n",
    "        if args is not None:\n",
    "            for k in defaults.keys():\n",
    "                if k not in args.keys():\n",
    "                    args[k] = defaults[k]\n",
    "        else:\n",
    "            args = defaults\n",
    "\n",
    "        self.embed_size = args[\"embed\"]\n",
    "        self.hidden_size = args[\"lstm_hidden\"]\n",
    "        self.num_lstm_layers = args[\"num_lstm_layers\"]\n",
    "        \n",
    "        # CNN based panel image embedder method\n",
    "        if pretrained_cnn is None:\n",
    "            # all layers except the lst FC\n",
    "            self.backbone =  torch.nn.Sequential(\n",
    "                *(list(models.resnet50(pretrained=True).children())[:-1]))  \n",
    "        else:\n",
    "            self.backbone = pretrained_cnn\n",
    "\n",
    "            # LSTM, sequential processing unit\n",
    "        self.lstm = nn.LSTM(\n",
    "            args[\"cnn_embed\"], self.hidden_size,\n",
    "            dropout=args[\"lstm_dropout\"], num_layers=args[\"num_lstm_layers\"]\n",
    "        )\n",
    "\n",
    "        # Additional FC layers to further process the LSTM output\n",
    "        if len(args[\"fc_hiddens\"]) > 0:\n",
    "            fc_hidden_sizes = [self.hidden_size, *args[\"fc_hiddens\"]]\n",
    "            fc_layers = []\n",
    "            for i in range(len(fc_hidden_sizes) - 1):\n",
    "                fc_layers.append(nn.Dropout(args[\"fc_dropout\"]))\n",
    "                fc_layers.append(nn.Linear(fc_hidden_sizes[i], fc_hidden_sizes[i + 1]))\n",
    "\n",
    "            self.fc_projector = nn.Sequential(*fc_layers)\n",
    "\n",
    "        else:\n",
    "            self.fc_projector = None\n",
    "\n",
    "        # Mean and Variance Calculator\n",
    "        last_size = self.hidden_size if len(args[\"fc_hiddens\"]) < 1 else args[\"fc_hiddens\"][-1]\n",
    "        self.fc_mean = nn.Linear(last_size, self.embed_size)\n",
    "        self.fc_var = nn.Linear(last_size, self.embed_size)\n",
    "\n",
    "    def forward(self, x):\n",
    "        B, S, C, H, W = x.shape\n",
    "        device = x.get_device()\n",
    "\n",
    "        # Retrieved the embeddings for each of the panels\n",
    "        outs = self.backbone(x.reshape(-1, C, H, W)).reshape(B, S, -1)\n",
    "\n",
    "        # Embedding outputs are passed to the lstm\n",
    "        outs, _ = self.lstm(\n",
    "            outs,\n",
    "            (\n",
    "                torch.zeros(self.num_lstm_layers, S, self.hidden_size).to(device), # h0\n",
    "                torch.zeros(self.num_lstm_layers, S, self.hidden_size).to(device)  # c0\n",
    "            ) \n",
    "        )\n",
    "        outs = outs[:, -1, :]\n",
    "\n",
    "        # Additional FC layers\n",
    "        if self.fc_projector is not None:\n",
    "            outs = self.fc_projector(outs)\n",
    "\n",
    "        # Extract mean and variance\n",
    "        mu = self.fc_mean(outs)\n",
    "        log_var = self.fc_var(outs)\n",
    "        std = torch.exp(log_var / 2)\n",
    "\n",
    "        return mu, std"
   ]
  },
  {
   "cell_type": "code",
   "execution_count": 20,
   "metadata": {},
   "outputs": [],
   "source": [
    "model = SequentialEncoder().cuda()"
   ]
  },
  {
   "cell_type": "code",
   "execution_count": 21,
   "metadata": {},
   "outputs": [],
   "source": [
    "x = torch.randn(16, 3, 3, 360, 360).cuda()"
   ]
  },
  {
   "cell_type": "code",
   "execution_count": 22,
   "metadata": {},
   "outputs": [],
   "source": [
    "mu, std = model(x)"
   ]
  },
  {
   "cell_type": "code",
   "execution_count": 23,
   "metadata": {},
   "outputs": [
    {
     "data": {
      "text/plain": [
       "torch.Size([16, 512])"
      ]
     },
     "execution_count": 23,
     "metadata": {},
     "output_type": "execute_result"
    }
   ],
   "source": [
    "mu.shape"
   ]
  },
  {
   "cell_type": "code",
   "execution_count": null,
   "metadata": {},
   "outputs": [],
   "source": []
  }
 ],
 "metadata": {
  "kernelspec": {
   "display_name": "venv",
   "language": "python",
   "name": "venv"
  },
  "language_info": {
   "codemirror_mode": {
    "name": "ipython",
    "version": 3
   },
   "file_extension": ".py",
   "mimetype": "text/x-python",
   "name": "python",
   "nbconvert_exporter": "python",
   "pygments_lexer": "ipython3",
   "version": "3.8.3"
  }
 },
 "nbformat": 4,
 "nbformat_minor": 4
}
