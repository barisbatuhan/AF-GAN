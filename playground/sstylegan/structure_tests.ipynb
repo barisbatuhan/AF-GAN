{
 "cells": [
  {
   "cell_type": "code",
   "execution_count": 1,
   "metadata": {},
   "outputs": [],
   "source": [
    "%load_ext autoreload\n",
    "%autoreload 2"
   ]
  },
  {
   "cell_type": "code",
   "execution_count": 2,
   "metadata": {},
   "outputs": [],
   "source": [
    "import torch\n",
    "import torch.nn as nn\n",
    "import torchvision\n",
    "import torchvision.models as models\n",
    "import numpy as np\n",
    "\n",
    "import os\n",
    "import sys\n",
    "os.path.dirname(sys.executable)\n",
    "sys.path.append('/kuacc/users/baristopal20/SSuperGAN/')"
   ]
  },
  {
   "cell_type": "code",
   "execution_count": 3,
   "metadata": {},
   "outputs": [],
   "source": [
    "from networks.ssupergan import SSuperGAN"
   ]
  },
  {
   "cell_type": "code",
   "execution_count": 4,
   "metadata": {},
   "outputs": [],
   "source": [
    "seq_args = {\n",
    "    \"lstm_hidden\": 256,    # hidden size of LSTM module\n",
    "    \"embed\": 256,          # last size for mean and std outputs\n",
    "    \"cnn_embed\": 2048,     # the output dim retrieved from CNN embedding module\n",
    "    \"fc_hiddens\": [],      # sizes of FC layers after LSTM output, if there are any\n",
    "    \"lstm_dropout\": 0,     # set to 0 if num_lstm_layers is 1, otherwise set to [0, 0.5]\n",
    "    \"fc_dropout\": 0,       # dropout ratio of FC layers if there are any\n",
    "    \"num_lstm_layers\": 1   # number of stacked LSTM layers\n",
    "}"
   ]
  },
  {
   "cell_type": "code",
   "execution_count": 5,
   "metadata": {},
   "outputs": [],
   "source": [
    "model = SSuperGAN(seq_args).cuda()"
   ]
  },
  {
   "cell_type": "code",
   "execution_count": 6,
   "metadata": {},
   "outputs": [],
   "source": [
    "x = torch.randn(16, 3, 3, 360, 360).cuda() # Sample sequential images\n",
    "y = torch.randn(16, 3, 64, 64).cuda() # Sample target images to generate"
   ]
  },
  {
   "cell_type": "code",
   "execution_count": 7,
   "metadata": {},
   "outputs": [],
   "source": [
    "with torch.no_grad():\n",
    "    kl, recon, discr = model(x, y)"
   ]
  },
  {
   "cell_type": "code",
   "execution_count": 8,
   "metadata": {},
   "outputs": [
    {
     "data": {
      "text/plain": [
       "(tensor(4.2550, device='cuda:0'),\n",
       " tensor(-18166.3984, device='cuda:0'),\n",
       " tensor(0.7126, device='cuda:0'))"
      ]
     },
     "execution_count": 8,
     "metadata": {},
     "output_type": "execute_result"
    }
   ],
   "source": [
    "kl, recon, discr"
   ]
  },
  {
   "cell_type": "code",
   "execution_count": null,
   "metadata": {},
   "outputs": [],
   "source": []
  }
 ],
 "metadata": {
  "kernelspec": {
   "display_name": "venv",
   "language": "python",
   "name": "venv"
  },
  "language_info": {
   "codemirror_mode": {
    "name": "ipython",
    "version": 3
   },
   "file_extension": ".py",
   "mimetype": "text/x-python",
   "name": "python",
   "nbconvert_exporter": "python",
   "pygments_lexer": "ipython3",
   "version": "3.8.3"
  }
 },
 "nbformat": 4,
 "nbformat_minor": 4
}
