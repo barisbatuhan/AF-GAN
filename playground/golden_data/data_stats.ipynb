{
 "cells": [
  {
   "cell_type": "code",
   "execution_count": 1,
   "metadata": {},
   "outputs": [],
   "source": [
    "import os"
   ]
  },
  {
   "cell_type": "code",
   "execution_count": 2,
   "metadata": {},
   "outputs": [
    {
     "name": "stdout",
     "output_type": "stream",
     "text": [
      "Total files: 0\n",
      "Total faces: 0\n",
      "Faces above 64px: 0 / 0\n",
      "Faces above 128px: 0 / 0\n",
      "Faces above 256px: 0 / 0\n"
     ]
    }
   ],
   "source": [
    "face_cnt = 0\n",
    "files_found = set()\n",
    "face_64 = 0\n",
    "face_64_max = 0\n",
    "face_128 = 0\n",
    "face_128_max = 0\n",
    "face_256 = 0\n",
    "face_256_max = 0\n",
    "\n",
    "for i in range(3959):\n",
    "    file = \"userfiles/baristopal20/golden_annot/\" + str(i) + \".txt\"\n",
    "    if not os.path.exists(file):\n",
    "        continue\n",
    "    with open(file, \"r\") as f:\n",
    "        lines = f.readlines()\n",
    "        if len(lines) < 1:\n",
    "            continue\n",
    "        if len(lines[-1]) < 2:\n",
    "            lines = lines[:-1]\n",
    "        \n",
    "        for line in lines:\n",
    "            parts = line.split(\" \")\n",
    "            files_found.add(parts[0])\n",
    "            x1, y1, x2, y2 = int(parts[1]), int(parts[2]), int(parts[3]), int(parts[4])\n",
    "            w = x2 - x1\n",
    "            h = y2 - y1\n",
    "            \n",
    "            if min(w, h) >= 64:\n",
    "                face_64 += 1\n",
    "            if max(w, h) >= 64:\n",
    "                face_64_max += 1\n",
    "            \n",
    "            if min(w, h) >= 128:\n",
    "                face_128 += 1\n",
    "            if max(w, h) >= 128:\n",
    "                face_128_max += 1\n",
    "            \n",
    "            if min(w, h) >= 256:\n",
    "                face_256 += 1\n",
    "            if max(w, h) >= 256:\n",
    "                face_256_max += 1\n",
    "        \n",
    "        face_cnt += len(lines)\n",
    "\n",
    "print(\"Total files:\", len(files_found))\n",
    "print(\"Total faces:\", face_cnt)\n",
    "print(\"Faces above 64px:\", face_64, \"/\", face_64_max)\n",
    "print(\"Faces above 128px:\", face_128, \"/\", face_128_max)\n",
    "print(\"Faces above 256px:\", face_256, \"/\", face_256_max)"
   ]
  },
  {
   "cell_type": "code",
   "execution_count": null,
   "metadata": {},
   "outputs": [],
   "source": []
  }
 ],
 "metadata": {
  "kernelspec": {
   "display_name": "venv",
   "language": "python",
   "name": "venv"
  },
  "language_info": {
   "codemirror_mode": {
    "name": "ipython",
    "version": 3
   },
   "file_extension": ".py",
   "mimetype": "text/x-python",
   "name": "python",
   "nbconvert_exporter": "python",
   "pygments_lexer": "ipython3",
   "version": "3.8.3"
  }
 },
 "nbformat": 4,
 "nbformat_minor": 4
}
