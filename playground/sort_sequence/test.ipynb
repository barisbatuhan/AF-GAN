{
 "cells": [
  {
   "cell_type": "code",
   "execution_count": 1,
   "metadata": {},
   "outputs": [],
   "source": [
    "%load_ext autoreload\n",
    "%autoreload 2"
   ]
  },
  {
   "cell_type": "code",
   "execution_count": 2,
   "metadata": {},
   "outputs": [],
   "source": [
    "import torch\n",
    "import torch.nn as nn\n",
    "import torch.nn.functional as F\n",
    "import torchvision\n",
    "import torchvision.models as models\n",
    "from torch.utils.data import DataLoader\n",
    "import numpy as np\n",
    "import matplotlib.pyplot as plt\n",
    "from copy import deepcopy\n",
    "\n",
    "import os\n",
    "import sys"
   ]
  },
  {
   "cell_type": "code",
   "execution_count": 3,
   "metadata": {},
   "outputs": [],
   "source": [
    "from data.datasets.random_dataset import RandomDataset\n",
    "from data.datasets.golden_panels import GoldenPanelsDataset\n",
    "from data.augment import get_PIL_image\n",
    "\n",
    "from networks.panel_encoder.cnn_embedder import CNNEmbedder\n",
    "from networks.sort_sequence_network import SortSequenceNetwork\n",
    "from training.sort_sequence_trainer import SortSequenceTrainer\n",
    "from utils.config_utils import read_config, Config\n",
    "from utils.logging_utils import *\n",
    "from utils.plot_utils import *\n",
    "from utils import pytorch_util as ptu\n",
    "\n",
    "from configs.base_config import *\n",
    "from functional.losses.elbo import elbo"
   ]
  },
  {
   "cell_type": "code",
   "execution_count": 5,
   "metadata": {},
   "outputs": [],
   "source": [
    "ptu.set_gpu_mode(True)\n",
    "config = read_config(Config.SORT_SEQUENCE)\n",
    "golden_age_config = read_config(Config.GOLDEN_AGE)"
   ]
  },
  {
   "cell_type": "code",
   "execution_count": 6,
   "metadata": {},
   "outputs": [
    {
     "name": "stdout",
     "output_type": "stream",
     "text": [
      "Loaded pretrained weights for efficientnet-b5\n"
     ]
    }
   ],
   "source": [
    "panel_dim = golden_age_config.panel_dim[0]\n",
    "cnn_embedder = CNNEmbedder(\"efficientnet-b5\", embed_dim=config.embed_dim)\n",
    "net = SortSequenceNetwork(embedder=cnn_embedder,\n",
    "                              num_elements_in_sequence=config.seq_size,\n",
    "                              pairwise_extraction_in_size=(panel_dim ** 2) * 4).cuda()\n",
    "    \n",
    "if config.parallel == True:\n",
    "        net = nn.DataParallel(net)\n",
    "        \n",
    "load_path = \"/scratch/users/gsoykan20/projects/AF-GAN/playground/sort_sequence/ckpts/sort_sequence_10-06-2021-16-04-30-checkpoint-epoch1.pth\"\n",
    "net.load_state_dict(torch.load(load_path)['model_state_dict'])\n",
    "net = net.cuda().eval()"
   ]
  },
  {
   "cell_type": "code",
   "execution_count": 7,
   "metadata": {},
   "outputs": [],
   "source": [
    "dataset = GoldenPanelsDataset(golden_age_config.panel_path,\n",
    "                              golden_age_config.sequence_path, \n",
    "                              golden_age_config.panel_dim,\n",
    "                              config.image_dim, \n",
    "                              augment=False, \n",
    "                              shuffle=False,\n",
    "                              mask_val=1, # mask with white color for 1 and black color for 0\n",
    "                              mask_all=False, # masks faces from all panels and returns all faces\n",
    "                              return_mask=True,\n",
    "                              return_mask_coordinates=True,\n",
    "                              train_test_ratio=golden_age_config.train_test_ratio,\n",
    "                              train_mode=False,\n",
    "                              limit_size=-1)\n",
    "data_loader = DataLoader(dataset, batch_size=1, shuffle=False)\n",
    "dl_iter = iter(data_loader)"
   ]
  },
  {
   "cell_type": "markdown",
   "metadata": {},
   "source": [
    "# Model Result Test"
   ]
  },
  {
   "cell_type": "code",
   "execution_count": null,
   "metadata": {},
   "outputs": [],
   "source": [
    "ctr, limit = 0, 6\n",
    "\n",
    "for i in range(limit):\n",
    "    x, _, gt = next(dl_iter)\n",
    "    \n",
    "    with torch.no_grad():\n",
    "        x = x.cuda()\n",
    "        gt = gt.cuda()\n",
    "        x[:, -1] = gt\n",
    "         = net(x=x.cuda())   \n",
    "    print(\"[INFO] Example:\", i)\n",
    "    generated, gt = create_global_pred_gt_images(x, y, y_recon, c)\n",
    "    plot_panels_and_faces(x, y, y_recon.cpu(), generated.cpu())"
   ]
  }
 ],
 "metadata": {
  "kernelspec": {
   "display_name": "Python 3",
   "language": "python",
   "name": "python3"
  },
  "language_info": {
   "codemirror_mode": {
    "name": "ipython",
    "version": 3
   },
   "file_extension": ".py",
   "mimetype": "text/x-python",
   "name": "python",
   "nbconvert_exporter": "python",
   "pygments_lexer": "ipython3",
   "version": "3.6.8"
  }
 },
 "nbformat": 4,
 "nbformat_minor": 4
}
