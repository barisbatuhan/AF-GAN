{
 "cells": [
  {
   "cell_type": "code",
   "execution_count": 1,
   "metadata": {},
   "outputs": [
    {
     "name": "stdout",
     "output_type": "stream",
     "text": [
      "Random Seed:  999\n",
      "Loaded pretrained weights for efficientnet-b5\n",
      "DCGAN PRAMS ngpu : 1  image_size : 64  nc : 3 latent_dim : 1024  ngf : 64 ndf 64\n"
     ]
    }
   ],
   "source": [
    "import os\n",
    "import sys\n",
    "import json\n",
    "import warnings\n",
    "warnings.filterwarnings(\"ignore\")\n",
    "\n",
    "from tqdm import tqdm\n",
    "\n",
    "from torch import optim\n",
    "from torch.utils.data import DataLoader\n",
    "import torch.nn as nn\n",
    "\n",
    "from data.datasets.golden_panels import GoldenPanelsDataset\n",
    "from networks.ssuper_global_local_discriminating import SSuperGlobalLocalDiscriminating\n",
    "from networks.ssuper_dcgan import SSuperDCGAN\n",
    "\n",
    "\n",
    "from networks.ssupervae import SSuperVAE\n",
    "\n",
    "from utils.config_utils import read_config, Config\n",
    "from utils.plot_utils import *\n",
    "from utils.logging_utils import *\n",
    "from utils import pytorch_util as ptu\n",
    "\n",
    "from configs.base_config import *\n",
    "\n",
    "from functional.metrics.psnr import PSNR\n",
    "from functional.metrics.fid import FID\n",
    "\n",
    "metrics = [\"PSNR\", \"FID\"]\n",
    "\n",
    "METRIC = metrics[1]\n",
    "BATCH_SIZE = 1024 if METRIC == \"FID\" else 256\n",
    "N_SAMPLES = 50000\n",
    "\n",
    "# model_path = \"/userfiles/comics_grp/pretrained_models/plain_ssupervae_epoch85.pth\"\n",
    "# use_lstm = False\n",
    "\n",
    "# model_path = \"/userfiles/comics_grp/pretrained_models/lstm_ssupervae_epoch99.pth\"\n",
    "model_path = \"/scratch/users/gsoykan20/projects/AF-GAN/playground/ssuper_global_local_discriminating/ckpts/04-06-2021-06-29-46_model-checkpoint-epoch99.pth\"\n",
    "\n",
    "use_lstm = True\n",
    "\n",
    "# Required for FID, if not given, then calculated from scratch\n",
    "mus = None\n",
    "sigmas = None\n",
    "\n",
    "\"\"\"\n",
    "config = read_config(Config.SSUPERVAE)\n",
    "golden_age_config = read_config(Config.GOLDEN_AGE)\n",
    "disc_config = read_config(Config.GLOBAL_LOCAL_DISC)\n",
    "ptu.set_gpu_mode(True)\n",
    "\"\"\"\n",
    "\n",
    "config = read_config(Config.SSUPERDCGAN)\n",
    "golden_age_config = read_config(Config.GOLDEN_AGE)\n",
    "disc_config = read_config(Config.GLOBAL_LOCAL_DISC)\n",
    "ptu.set_gpu_mode(True)\n",
    "\n",
    "\"\"\"\n",
    "base_net = SSuperVAE(config.backbone,\n",
    "                         latent_dim=config.latent_dim,\n",
    "                         embed_dim=config.embed_dim,\n",
    "                         use_lstm=config.use_lstm,\n",
    "                         seq_size=config.seq_size,\n",
    "                         decoder_channels=config.decoder_channels,\n",
    "                         gen_img_size=config.image_dim,\n",
    "                         lstm_hidden=config.lstm_hidden,\n",
    "                         lstm_dropout=config.lstm_dropout,\n",
    "                         fc_hidden_dims=config.fc_hidden_dims,\n",
    "                         fc_dropout=config.fc_dropout,\n",
    "                         num_lstm_layers=config.num_lstm_layers,\n",
    "                         masked_first=config.masked_first).cuda()\n",
    "\n",
    "net = SSuperGlobalLocalDiscriminating(base_net,\n",
    "                                                        # Assuming that panels are square\n",
    "                                                        panel_img_size=golden_age_config.panel_dim[0],\n",
    "                                                        output_img_size=config.image_dim).cuda()\n",
    "\"\"\"\n",
    "\n",
    "base_net = SSuperDCGAN(config.backbone,\n",
    "                           latent_dim=config.latent_dim,\n",
    "                           embed_dim=config.embed_dim,\n",
    "                           use_lstm=config.use_lstm,\n",
    "                           seq_size=config.seq_size,\n",
    "                           gen_img_size=config.image_dim,\n",
    "                           lstm_hidden=config.lstm_hidden,\n",
    "                           lstm_dropout=config.lstm_dropout,\n",
    "                           fc_hidden_dims=config.fc_hidden_dims,\n",
    "                           fc_dropout=config.fc_dropout,\n",
    "                           num_lstm_layers=config.num_lstm_layers,\n",
    "                           masked_first=config.masked_first,\n",
    "                           ngpu=config.ngpu,\n",
    "                           ngf=config.ngf,\n",
    "                           ndf=config.ndf,\n",
    "                           nc=config.nc,\n",
    "                           image_size=config.image_dim).cuda()\n",
    "\n",
    "net = SSuperGlobalLocalDiscriminating(base_net,\n",
    "                                                        # Assuming that panels are square\n",
    "                                                        panel_img_size=golden_age_config.panel_dim[0],\n",
    "                                                        output_img_size=config.image_dim,\n",
    "                                                        create_local_disc_lambda=lambda: base_net.dcgan.discriminator,\n",
    "                                                        create_global_disc_lambda=\n",
    "                                                        lambda: base_net.dcgan.create_generic_discriminator(\n",
    "                                                            golden_age_config.panel_dim[0])) \\\n",
    "        .cuda()\n",
    "\n",
    "\n",
    "\n",
    "if getattr(config, 'parallel', False):\n",
    "        net = nn.DataParallel(net)\n",
    "\n",
    "net.load_state_dict(torch.load(model_path)['model_state_dict'])\n",
    "net = net.cuda().eval()\n",
    "\n",
    "dataset = GoldenPanelsDataset(golden_age_config.panel_path,\n",
    "                              golden_age_config.sequence_path, \n",
    "                              golden_age_config.panel_dim,\n",
    "                              config.image_dim, \n",
    "                              augment=False, \n",
    "                              mask_val=1, # mask with white color for 1 and black color for 0\n",
    "                              mask_all=False, # masks faces from all panels and returns all faces\n",
    "                              return_mask=True,\n",
    "                              train_test_ratio= golden_age_config.train_test_ratio,\n",
    "                              train_mode=False,\n",
    "                              limit_size=-1)\n",
    "\n",
    "data_loader = DataLoader(dataset, batch_size=BATCH_SIZE)\n",
    "\n"
   ]
  },
  {
   "cell_type": "code",
   "execution_count": 2,
   "metadata": {},
   "outputs": [
    {
     "name": "stderr",
     "output_type": "stream",
     "text": [
      "100%|██████████| 12/12 [01:22<00:00,  6.84s/it]"
     ]
    },
    {
     "name": "stdout",
     "output_type": "stream",
     "text": [
      "-- PSNR: 13.890511830647787\n"
     ]
    },
    {
     "name": "stderr",
     "output_type": "stream",
     "text": [
      "\n"
     ]
    }
   ],
   "source": [
    "if METRIC == \"PSNR\":\n",
    "    \n",
    "    psnrs, iter_cnt = 0, 0\n",
    "    for x, y, z in tqdm(data_loader):\n",
    "        with torch.no_grad():\n",
    "            _, _, _, y_recon, _ = net(x=x.cuda())\n",
    "        psnrs += PSNR.__call__(y_recon.cpu(), y, fit_range=True)\n",
    "        iter_cnt += 1\n",
    "    print(\"-- PSNR:\", psnrs.item()/iter_cnt)"
   ]
  },
  {
   "cell_type": "code",
   "execution_count": 2,
   "metadata": {},
   "outputs": [
    {
     "name": "stderr",
     "output_type": "stream",
     "text": [
      "100%|██████████| 3/3 [01:01<00:00, 20.39s/it]\n"
     ]
    }
   ],
   "source": [
    "if METRIC == \"FID\":\n",
    "    \n",
    "    metric = FID(n_samples=N_SAMPLES, batch_size=BATCH_SIZE)\n",
    "    \n",
    "    if mus is None or sigmas is None:\n",
    "        iter_cnt = 0\n",
    "        for _, y, _ in tqdm(data_loader):\n",
    "            original_features = metric.extract_features(y).cpu().numpy()\n",
    "            mu = np.mean(original_features, axis=0)\n",
    "            sigma = np.cov(original_features, rowvar=False)\n",
    "            \n",
    "            if mus is None:\n",
    "                mus, sigmas = mu, sigma\n",
    "            else:\n",
    "                mus += mu\n",
    "                sigmas += sigma\n",
    "            \n",
    "            iter_cnt += 1\n",
    "            \n",
    "        mus /= iter_cnt\n",
    "        sigmas /= iter_cnt\n"
   ]
  },
  {
   "cell_type": "code",
   "execution_count": 3,
   "metadata": {},
   "outputs": [
    {
     "name": "stderr",
     "output_type": "stream",
     "text": [
      "100%|██████████| 49/49 [43:26<00:00, 53.19s/it]"
     ]
    },
    {
     "name": "stdout",
     "output_type": "stream",
     "text": [
      "-- FID: 266.4288813721462 on 50000 samples.\n"
     ]
    },
    {
     "name": "stderr",
     "output_type": "stream",
     "text": [
      "\n"
     ]
    }
   ],
   "source": [
    "if METRIC == \"FID\":\n",
    "    with torch.no_grad():\n",
    "        fid = metric.__call__(net, real_mean=mus, real_cov=sigmas)\n",
    "        print(\"-- FID:\", fid, \"on\", N_SAMPLES, \"samples.\")\n"
   ]
  },
  {
   "cell_type": "code",
   "execution_count": null,
   "metadata": {},
   "outputs": [],
   "source": []
  }
 ],
 "metadata": {
  "kernelspec": {
   "display_name": "Python 3",
   "language": "python",
   "name": "python3"
  },
  "language_info": {
   "codemirror_mode": {
    "name": "ipython",
    "version": 3
   },
   "file_extension": ".py",
   "mimetype": "text/x-python",
   "name": "python",
   "nbconvert_exporter": "python",
   "pygments_lexer": "ipython3",
   "version": "3.6.8"
  }
 },
 "nbformat": 4,
 "nbformat_minor": 4
}
